{
 "cells": [
  {
   "cell_type": "code",
   "execution_count": 2,
   "id": "vietnamese-insider",
   "metadata": {},
   "outputs": [
    {
     "name": "stdout",
     "output_type": "stream",
     "text": [
      "Num GPUs Available:  1\n",
      "['/device:CPU:0', '/device:XLA_CPU:0', '/device:GPU:0', '/device:XLA_GPU:0']\n"
     ]
    }
   ],
   "source": [
    "import os\n",
    "import tensorflow as tf\n",
    "\n",
    "# If there are multiple GPUs and we only want to use one/some, set the number in the visible device list.\n",
    "os.environ[\"CUDA_DEVICE_ORDER\"]=\"PCI_BUS_ID\"\n",
    "os.environ[\"CUDA_VISIBLE_DEVICES\"]=\"0,1,2,3,4\"\n",
    "\n",
    "# This sets the GPU to allocate memory only as needed\n",
    "physical_devices = tf.config.experimental.list_physical_devices('GPU')\n",
    "if len(physical_devices) != 0:\n",
    "    tf.config.experimental.set_memory_growth(physical_devices[0], True) \n",
    "\n",
    "print(\"Num GPUs Available: \", len(tf.config.list_physical_devices('GPU')))\n",
    "\n",
    "from tensorflow.python.client import device_lib\n",
    "def get_available_devices():\n",
    "    local_device_protos = device_lib.list_local_devices()\n",
    "    return [x.name for x in local_device_protos]\n",
    "print(get_available_devices()) "
   ]
  },
  {
   "cell_type": "code",
   "execution_count": 3,
   "id": "amateur-local",
   "metadata": {},
   "outputs": [],
   "source": [
    "def chooseAction(Q, state, eps):\n",
    "    if np.random.uniform(low = 0, high = 1) < 1 - eps:\n",
    "        action = np.argmax(Q[state[0], state[1]])\n",
    "    else:\n",
    "        action = np.random.randint(0, env.action_space.n) # Selects int from [0,3)\n",
    "    return action\n",
    "\n",
    "def getEpsilon(eps, minEps, currEpisode):\n",
    "    if eps > minEps:\n",
    "        eps -= (eps - minEps)/currEpisode\n",
    "    return eps"
   ]
  },
  {
   "cell_type": "code",
   "execution_count": 59,
   "id": "japanese-bunch",
   "metadata": {},
   "outputs": [
    {
     "name": "stdout",
     "output_type": "stream",
     "text": [
      "Episode 100 Average Reward -200.0\n",
      "Episode 200 Average Reward -200.0\n",
      "Episode 300 Average Reward -200.0\n",
      "Episode 400 Average Reward -199.31\n",
      "Episode 500 Average Reward -193.87\n",
      "Episode 600 Average Reward -197.78\n",
      "Episode 700 Average Reward -198.98\n",
      "Episode 800 Average Reward -198.75\n",
      "Episode 900 Average Reward -196.29\n",
      "Episode 1000 Average Reward -187.01\n",
      "Episode 1100 Average Reward -180.71\n",
      "Episode 1200 Average Reward -186.19\n",
      "Episode 1300 Average Reward -188.11\n",
      "Episode 1400 Average Reward -190.44\n",
      "Episode 1500 Average Reward -189.16\n",
      "Episode 1600 Average Reward -188.3\n",
      "Episode 1700 Average Reward -181.61\n",
      "Episode 1800 Average Reward -156.22\n",
      "Episode 1900 Average Reward -188.5\n",
      "Episode 2000 Average Reward -172.13\n",
      "Episode 2100 Average Reward -174.27\n",
      "Episode 2200 Average Reward -186.66\n",
      "Episode 2300 Average Reward -170.26\n",
      "Episode 2400 Average Reward -158.05\n",
      "Episode 2500 Average Reward -155.29\n",
      "Episode 2600 Average Reward -164.11\n",
      "Episode 2700 Average Reward -166.41\n",
      "Episode 2800 Average Reward -172.58\n",
      "Episode 2900 Average Reward -161.16\n",
      "Episode 3000 Average Reward -157.93\n",
      "Episode 3100 Average Reward -151.95\n",
      "Episode 3200 Average Reward -145.79\n",
      "Episode 3300 Average Reward -156.29\n",
      "Episode 3400 Average Reward -172.51\n",
      "Episode 3500 Average Reward -164.65\n",
      "Episode 3600 Average Reward -167.7\n",
      "Episode 3700 Average Reward -150.0\n",
      "Episode 3800 Average Reward -145.31\n",
      "Episode 3900 Average Reward -143.28\n",
      "Episode 4000 Average Reward -153.21\n",
      "Episode 4100 Average Reward -153.5\n",
      "Episode 4200 Average Reward -155.41\n",
      "Episode 4300 Average Reward -149.99\n",
      "Episode 4400 Average Reward -173.27\n",
      "Episode 4500 Average Reward -168.1\n",
      "Episode 4600 Average Reward -184.84\n",
      "Episode 4700 Average Reward -171.94\n",
      "Episode 4800 Average Reward -162.85\n",
      "Episode 4900 Average Reward -150.65\n",
      "Episode 5000 Average Reward -163.14\n"
     ]
    }
   ],
   "source": [
    "import gym\n",
    "import numpy as np\n",
    "import matplotlib.pyplot as plt\n",
    "\n",
    "env = gym.make(\"MountainCar-v0\")\n",
    "env.reset()\n",
    "\n",
    "numStates = (env.observation_space.high - env.observation_space.low)*np.array([10, 100])\n",
    "numStates = np.round(numStates, 0).astype(int) + 1\n",
    "\n",
    "Q = np.random.uniform(low = 0, high = 1, size=(numStates[0], numStates[1], env.action_space.n))\n",
    "V = np.zeros((numStates[0], numStates[1]))\n",
    "Pi = -1*np.ones((numStates[0], numStates[1]))\n",
    "\n",
    "numEpisodes = 5000\n",
    "eta = 0.1\n",
    "gamma = 0.9\n",
    "eps = 0.9\n",
    "rewardList = []\n",
    "avgRewardList = []\n",
    "for i in range(numEpisodes):\n",
    "    # Current state\n",
    "    totReward = 0\n",
    "    reward = 0\n",
    "    sCurr = env.reset()\n",
    "    sCurrDisc = (sCurr - env.observation_space.low)*np.array([10, 100])\n",
    "    sCurrDisc = np.round(sCurrDisc, 0).astype(int) + 1\n",
    "    done = False\n",
    "    while not done:\n",
    "        if i >= (numEpisodes - 20):\n",
    "            env.render()\n",
    "        \n",
    "        action = chooseAction(Q, sCurrDisc, eps)\n",
    "        sNext, reward, done, _ = env.step(action)\n",
    "        sNextDisc = (sNext - env.observation_space.low)*np.array([10, 100])\n",
    "        sNextDisc = np.round(sNextDisc, 0).astype(int) + 1\n",
    "        if done and sNext[0] >= 0.5:\n",
    "            Q[sCurrDisc[0], sCurrDisc[1], action] = reward\n",
    "        else:\n",
    "            Q[sCurrDisc[0], sCurrDisc[1],action] = (1-eta)*Q[sCurrDisc[0], sCurrDisc[1],action] \\\n",
    "            + eta*(reward + gamma*np.max(Q[sNextDisc[0],sNextDisc[1]]))\n",
    "        sCurrDisc = sNextDisc\n",
    "        totReward += reward\n",
    "    \n",
    "    rewardList.append(totReward)\n",
    "    eps = getEpsilon(eps, 0.01, i+1)\n",
    "    if (i+1) % 100 == 0:\n",
    "        avgReward = np.mean(rewardList)\n",
    "        avgRewardList.append(avgReward)\n",
    "        rewardList = []\n",
    "        print('Episode {} Average Reward {}'.format(i+1, avgReward))\n",
    "    \n",
    "env.close()\n",
    "for i in range(Q.shape[0]):\n",
    "    for j in range(Q.shape[1]):\n",
    "        Pi[i,j] = np.argmax(Q[i,j])\n",
    "        V[i,j] = np.max(Q[i,j])"
   ]
  },
  {
   "cell_type": "code",
   "execution_count": 57,
   "id": "necessary-description",
   "metadata": {},
   "outputs": [
    {
     "data": {
      "image/png": "[encoded data removed]",
      "text/plain": [
       "<Figure size 432x288 with 2 Axes>"
      ]
     },
     "metadata": {
      "needs_background": "light"
     },
     "output_type": "display_data"
    },
    {
     "data": {
      "text/plain": [
       "Text(0, 0.5, 'Average reward')"
      ]
     },
     "execution_count": 57,
     "metadata": {},
     "output_type": "execute_result"
    },
    {
     "data": {
      "image/png": "[encoded data removed]",
      "text/plain": [
       "<Figure size 432x288 with 1 Axes>"
      ]
     },
     "metadata": {
      "needs_background": "light"
     },
     "output_type": "display_data"
    }
   ],
   "source": [
    "plt.imshow(V)\n",
    "plt.colorbar()\n",
    "plt.show()\n",
    "plt.plot(100*(np.arange(len(avgRewardList)) + 1), avgRewardList)\n",
    "plt.xlabel('Episodes')\n",
    "plt.ylabel('Average reward')"
   ]
  },
  {
   "cell_type": "code",
   "execution_count": 60,
   "id": "former-athens",
   "metadata": {},
   "outputs": [],
   "source": [
    "# TESTING\n",
    "eps = 0\n",
    "sCurr = env.reset()\n",
    "sCurrDisc = (sCurr - env.observation_space.low)*np.array([10, 100])\n",
    "sCurrDisc = np.round(sCurrDisc, 0).astype(int) + 1\n",
    "done = False\n",
    "env.render()\n",
    "while not done:\n",
    "    env.render()\n",
    "    action = chooseAction(Q, sCurrDisc, eps)\n",
    "    sNext, reward, done, _ = env.step(action)\n",
    "    sNextDisc = (sNext - env.observation_space.low)*np.array([10, 100])\n",
    "    sNextDisc = np.round(sNextDisc, 0).astype(int) + 1\n",
    "    sCurrDisc = sNextDisc\n",
    "env.close()"
   ]
  },
  {
   "cell_type": "code",
   "execution_count": null,
   "id": "operating-jaguar",
   "metadata": {},
   "outputs": [],
   "source": []
  }
 ],
 "metadata": {
  "kernelspec": {
   "display_name": "Python 3",
   "language": "python",
   "name": "python3"
  },
  "language_info": {
   "codemirror_mode": {
    "name": "ipython",
    "version": 3
   },
   "file_extension": ".py",
   "mimetype": "text/x-python",
   "name": "python",
   "nbconvert_exporter": "python",
   "pygments_lexer": "ipython3",
   "version": "3.8.5"
  }
 },
 "nbformat": 4,
 "nbformat_minor": 5
}
